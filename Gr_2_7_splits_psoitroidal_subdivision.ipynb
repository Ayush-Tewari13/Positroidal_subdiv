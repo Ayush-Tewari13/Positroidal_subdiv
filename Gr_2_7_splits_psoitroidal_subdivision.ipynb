{
 "cells": [
  {
   "cell_type": "code",
   "execution_count": 4,
   "id": "16cf2c6d",
   "metadata": {},
   "outputs": [
    {
     "data": {
      "text/plain": [
       "0:12 13 23 24 25 26 27 34 35 36 37\n",
       "1:12 13 14 15 16 17 24 25 26 27 34 35 36 37 45 46 47 56 57 67\n"
      ]
     },
     "execution_count": 4,
     "metadata": {},
     "output_type": "execute_result"
    }
   ],
   "source": [
    "$p = hypersimplex(2,7);\n",
    "\n",
    "\n",
    "$wt_13 = new Vector<Rational>([0, 0, 0, 0, 0, 0, 1, 0, 0, 0, 0, 0, 0, 0, 0, 0, 0, 0, 0, 0, 0]);\n",
    "\n",
    "\n",
    "$S = new fan::SubdivisionOfPoints(POINTS=>$p->VERTICES,WEIGHTS=>$wt_13);\n",
    "#print $S->MAXIMAL_CELLS;\n",
    "\n",
    "print rows_labeled($S->MAXIMAL_CELLS,undef,[\"12\",\"13\",\"14\",\"15\",\"16\",\"17\",\"23\",\"24\",\"25\",\"26\",\"27\",\"34\",\"35\",\"36\",\"37\",\"45\",\"46\",\"47\",\"56\",\"57\",\"67\"]);"
   ]
  },
  {
   "cell_type": "code",
   "execution_count": 5,
   "id": "f66d1c86",
   "metadata": {},
   "outputs": [
    {
     "data": {
      "text/plain": [
       "0:12 13 14 15 16 17 25 26 27 35 36 37 45 46 47 56 57 67\n",
       "1:12 13 14 23 24 25 26 27 34 35 36 37 45 46 47\n"
      ]
     },
     "execution_count": 5,
     "metadata": {},
     "output_type": "execute_result"
    }
   ],
   "source": [
    "$p = hypersimplex(2,7);\n",
    "\n",
    "\n",
    "$wt_14 = new Vector<Rational>([0, 0, 0, 0, 0, 0, 1, 1, 0, 0, 0, 1, 0, 0, 0, 0, 0, 0, 0, 0, 0]);\n",
    "\n",
    "\n",
    "$S = new fan::SubdivisionOfPoints(POINTS=>$p->VERTICES,WEIGHTS=>$wt_14);\n",
    "#print $S->MAXIMAL_CELLS;\n",
    "\n",
    "print rows_labeled($S->MAXIMAL_CELLS,undef,[\"12\",\"13\",\"14\",\"15\",\"16\",\"17\",\"23\",\"24\",\"25\",\"26\",\"27\",\"34\",\"35\",\"36\",\"37\",\"45\",\"46\",\"47\",\"56\",\"57\",\"67\"]);"
   ]
  },
  {
   "cell_type": "code",
   "execution_count": 6,
   "id": "59dbb8ec",
   "metadata": {},
   "outputs": [
    {
     "data": {
      "text/plain": [
       "0:12 13 14 15 16 17 26 27 36 37 46 47 56 57 67\n",
       "1:12 13 14 15 23 24 25 26 27 34 35 36 37 45 46 47 56 57\n"
      ]
     },
     "execution_count": 6,
     "metadata": {},
     "output_type": "execute_result"
    }
   ],
   "source": [
    "$p = hypersimplex(2,7);\n",
    "\n",
    "\n",
    "$wt_15 = new Vector<Rational>([0, 0, 0, 0, 0, 0, 1, 1, 1, 0, 0, 1, 1, 0, 0, 1, 0, 0, 0, 0, 0]);\n",
    "\n",
    "\n",
    "$S = new fan::SubdivisionOfPoints(POINTS=>$p->VERTICES,WEIGHTS=>$wt_15);\n",
    "#print $S->MAXIMAL_CELLS;\n",
    "\n",
    "print rows_labeled($S->MAXIMAL_CELLS,undef,[\"12\",\"13\",\"14\",\"15\",\"16\",\"17\",\"23\",\"24\",\"25\",\"26\",\"27\",\"34\",\"35\",\"36\",\"37\",\"45\",\"46\",\"47\",\"56\",\"57\",\"67\"]);"
   ]
  },
  {
   "cell_type": "code",
   "execution_count": 7,
   "id": "764e5fe5",
   "metadata": {},
   "outputs": [
    {
     "data": {
      "text/plain": [
       "0:12 13 14 15 16 17 27 37 47 57 67\n",
       "1:12 13 14 15 16 23 24 25 26 27 34 35 36 37 45 46 47 56 57 67\n"
      ]
     },
     "execution_count": 7,
     "metadata": {},
     "output_type": "execute_result"
    }
   ],
   "source": [
    "$p = hypersimplex(2,7);\n",
    "\n",
    "\n",
    "$wt_16 = new Vector<Rational>([0, 0, 0, 0, 0, 0, 1, 1, 1, 1, 0, 1, 1, 1, 0, 1, 1, 0, 1, 0, 0]);\n",
    "\n",
    "\n",
    "$S = new fan::SubdivisionOfPoints(POINTS=>$p->VERTICES,WEIGHTS=>$wt_16);\n",
    "#print $S->MAXIMAL_CELLS;\n",
    "\n",
    "print rows_labeled($S->MAXIMAL_CELLS,undef,[\"12\",\"13\",\"14\",\"15\",\"16\",\"17\",\"23\",\"24\",\"25\",\"26\",\"27\",\"34\",\"35\",\"36\",\"37\",\"45\",\"46\",\"47\",\"56\",\"57\",\"67\"]);"
   ]
  },
  {
   "cell_type": "code",
   "execution_count": 8,
   "id": "aabd5b3a",
   "metadata": {},
   "outputs": [
    {
     "data": {
      "text/plain": [
       "0:12 13 14 15 16 17 23 24 25 26 27 35 36 37 45 46 47 56 57 67\n",
       "1:13 14 23 24 34 35 36 37 45 46 47\n"
      ]
     },
     "execution_count": 8,
     "metadata": {},
     "output_type": "execute_result"
    }
   ],
   "source": [
    "$p = hypersimplex(2,7);\n",
    "\n",
    "\n",
    "$wt_24 = new Vector<Rational>([0, 0, 0, 0, 0, 0, 0, 0, 0, 0, 0, 1, 0, 0, 0, 0, 0, 0, 0, 0, 0]);\n",
    "\n",
    "\n",
    "$S = new fan::SubdivisionOfPoints(POINTS=>$p->VERTICES,WEIGHTS=>$wt_24);\n",
    "#print $S->MAXIMAL_CELLS;\n",
    "\n",
    "print rows_labeled($S->MAXIMAL_CELLS,undef,[\"12\",\"13\",\"14\",\"15\",\"16\",\"17\",\"23\",\"24\",\"25\",\"26\",\"27\",\"34\",\"35\",\"36\",\"37\",\"45\",\"46\",\"47\",\"56\",\"57\",\"67\"]);"
   ]
  },
  {
   "cell_type": "code",
   "execution_count": 9,
   "id": "82013f48",
   "metadata": {},
   "outputs": [
    {
     "data": {
      "text/plain": [
       "0:12 13 14 15 16 17 23 24 25 26 27 36 37 46 47 56 57 67\n",
       "1:13 14 15 23 24 25 34 35 36 37 45 46 47 56 57\n"
      ]
     },
     "execution_count": 9,
     "metadata": {},
     "output_type": "execute_result"
    }
   ],
   "source": [
    "$p = hypersimplex(2,7);\n",
    "\n",
    "\n",
    "$wt_25 = new Vector<Rational>([0, 0, 0, 0, 0, 0, 0, 0, 0, 0, 0, 1, 1, 0, 0, 1, 0, 0, 0, 0, 0]);\n",
    "\n",
    "\n",
    "$S = new fan::SubdivisionOfPoints(POINTS=>$p->VERTICES,WEIGHTS=>$wt_25);\n",
    "#print $S->MAXIMAL_CELLS;\n",
    "\n",
    "print rows_labeled($S->MAXIMAL_CELLS,undef,[\"12\",\"13\",\"14\",\"15\",\"16\",\"17\",\"23\",\"24\",\"25\",\"26\",\"27\",\"34\",\"35\",\"36\",\"37\",\"45\",\"46\",\"47\",\"56\",\"57\",\"67\"]);"
   ]
  },
  {
   "cell_type": "code",
   "execution_count": 10,
   "id": "b2a3883a",
   "metadata": {},
   "outputs": [
    {
     "data": {
      "text/plain": [
       "0:12 13 14 15 16 17 23 24 25 26 27 37 47 57 67\n",
       "1:13 14 15 16 23 24 25 26 34 35 36 37 45 46 47 56 57 67\n"
      ]
     },
     "execution_count": 10,
     "metadata": {},
     "output_type": "execute_result"
    }
   ],
   "source": [
    "$p = hypersimplex(2,7);\n",
    "\n",
    "\n",
    "$wt_26 = new Vector<Rational>([0, 0, 0, 0, 0, 0, 0, 0, 0, 0, 0, 1, 1, 1, 0, 1, 1, 0, 1, 0, 0]);\n",
    "\n",
    "\n",
    "$S = new fan::SubdivisionOfPoints(POINTS=>$p->VERTICES,WEIGHTS=>$wt_26);\n",
    "#print $S->MAXIMAL_CELLS;\n",
    "\n",
    "print rows_labeled($S->MAXIMAL_CELLS,undef,[\"12\",\"13\",\"14\",\"15\",\"16\",\"17\",\"23\",\"24\",\"25\",\"26\",\"27\",\"34\",\"35\",\"36\",\"37\",\"45\",\"46\",\"47\",\"56\",\"57\",\"67\"]);"
   ]
  },
  {
   "cell_type": "code",
   "execution_count": 11,
   "id": "cdc82ad7",
   "metadata": {},
   "outputs": [
    {
     "data": {
      "text/plain": [
       "0:13 14 15 16 17 23 24 25 26 27 34 35 36 37 45 46 47 56 57 67\n",
       "1:12 13 14 15 16 17 23 24 25 26 27\n"
      ]
     },
     "execution_count": 11,
     "metadata": {},
     "output_type": "execute_result"
    }
   ],
   "source": [
    "$p = hypersimplex(2,7);\n",
    "\n",
    "\n",
    "$wt_27 = new Vector<Rational>([0, 0, 0, 0, 0, 0, 0, 0, 0, 0, 0, 1, 1, 1, 1, 1, 1, 1, 1, 1, 1]);\n",
    "\n",
    "\n",
    "$S = new fan::SubdivisionOfPoints(POINTS=>$p->VERTICES,WEIGHTS=>$wt_27);\n",
    "#print $S->MAXIMAL_CELLS;\n",
    "\n",
    "print rows_labeled($S->MAXIMAL_CELLS,undef,[\"12\",\"13\",\"14\",\"15\",\"16\",\"17\",\"23\",\"24\",\"25\",\"26\",\"27\",\"34\",\"35\",\"36\",\"37\",\"45\",\"46\",\"47\",\"56\",\"57\",\"67\"]);"
   ]
  },
  {
   "cell_type": "code",
   "execution_count": 12,
   "id": "fece055c",
   "metadata": {},
   "outputs": [
    {
     "data": {
      "text/plain": [
       "0:12 13 14 15 16 17 23 24 25 26 27 34 35 36 37 46 47 56 57 67\n",
       "1:14 15 24 25 34 35 45 46 47 56 57\n"
      ]
     },
     "execution_count": 12,
     "metadata": {},
     "output_type": "execute_result"
    }
   ],
   "source": [
    "$p = hypersimplex(2,7);\n",
    "\n",
    "\n",
    "$wt_35 = new Vector<Rational>([0, 0, 0, 0, 0, 0, 0, 0, 0, 0, 0, 0, 0, 0, 0, 1, 0, 0, 0, 0, 0]);\n",
    "\n",
    "\n",
    "$S = new fan::SubdivisionOfPoints(POINTS=>$p->VERTICES,WEIGHTS=>$wt_35);\n",
    "#print $S->MAXIMAL_CELLS;\n",
    "\n",
    "print rows_labeled($S->MAXIMAL_CELLS,undef,[\"12\",\"13\",\"14\",\"15\",\"16\",\"17\",\"23\",\"24\",\"25\",\"26\",\"27\",\"34\",\"35\",\"36\",\"37\",\"45\",\"46\",\"47\",\"56\",\"57\",\"67\"]);"
   ]
  },
  {
   "cell_type": "code",
   "execution_count": 13,
   "id": "2356558f",
   "metadata": {},
   "outputs": [
    {
     "data": {
      "text/plain": [
       "0:12 13 14 15 16 17 23 24 25 26 27 34 35 36 37 47 57 67\n",
       "1:14 15 16 24 25 26 34 35 36 45 46 47 56 57 67\n"
      ]
     },
     "execution_count": 13,
     "metadata": {},
     "output_type": "execute_result"
    }
   ],
   "source": [
    "$p = hypersimplex(2,7);\n",
    "\n",
    "\n",
    "$wt_36 = new Vector<Rational>([0, 0, 0, 0, 0, 0, 0, 0, 0, 0, 0, 0, 0, 0, 0, 1, 1, 0, 1, 0, 0]);\n",
    "\n",
    "\n",
    "$S = new fan::SubdivisionOfPoints(POINTS=>$p->VERTICES,WEIGHTS=>$wt_36);\n",
    "#print $S->MAXIMAL_CELLS;\n",
    "\n",
    "print rows_labeled($S->MAXIMAL_CELLS,undef,[\"12\",\"13\",\"14\",\"15\",\"16\",\"17\",\"23\",\"24\",\"25\",\"26\",\"27\",\"34\",\"35\",\"36\",\"37\",\"45\",\"46\",\"47\",\"56\",\"57\",\"67\"]);"
   ]
  },
  {
   "cell_type": "code",
   "execution_count": 14,
   "id": "61af3445",
   "metadata": {},
   "outputs": [
    {
     "data": {
      "text/plain": [
       "0:12 13 14 15 16 17 23 24 25 26 27 34 35 36 37\n",
       "1:14 15 16 17 24 25 26 27 34 35 36 37 45 46 47 56 57 67\n"
      ]
     },
     "execution_count": 14,
     "metadata": {},
     "output_type": "execute_result"
    }
   ],
   "source": [
    "$p = hypersimplex(2,7);\n",
    "\n",
    "\n",
    "$wt_37 = new Vector<Rational>([0, 0, 0, 0, 0, 0, 0, 0, 0, 0, 0, 0, 0, 0, 0, 1, 1, 1, 1, 1, 1]);\n",
    "\n",
    "\n",
    "$S = new fan::SubdivisionOfPoints(POINTS=>$p->VERTICES,WEIGHTS=>$wt_37);\n",
    "#print $S->MAXIMAL_CELLS;\n",
    "\n",
    "print rows_labeled($S->MAXIMAL_CELLS,undef,[\"12\",\"13\",\"14\",\"15\",\"16\",\"17\",\"23\",\"24\",\"25\",\"26\",\"27\",\"34\",\"35\",\"36\",\"37\",\"45\",\"46\",\"47\",\"56\",\"57\",\"67\"]);"
   ]
  },
  {
   "cell_type": "code",
   "execution_count": 15,
   "id": "7048a1cb",
   "metadata": {},
   "outputs": [
    {
     "data": {
      "text/plain": [
       "0:12 13 14 15 16 17 23 24 25 26 27 34 35 36 37 45 46 47 57 67\n",
       "1:15 16 25 26 35 36 45 46 56 57 67\n"
      ]
     },
     "execution_count": 15,
     "metadata": {},
     "output_type": "execute_result"
    }
   ],
   "source": [
    "$p = hypersimplex(2,7);\n",
    "\n",
    "\n",
    "$wt_46 = new Vector<Rational>([0, 0, 0, 0, 0, 0, 0, 0, 0, 0, 0, 0, 0, 0, 0, 0, 0, 0, 1, 0, 0]);\n",
    "\n",
    "\n",
    "$S = new fan::SubdivisionOfPoints(POINTS=>$p->VERTICES,WEIGHTS=>$wt_46);\n",
    "#print $S->MAXIMAL_CELLS;\n",
    "\n",
    "print rows_labeled($S->MAXIMAL_CELLS,undef,[\"12\",\"13\",\"14\",\"15\",\"16\",\"17\",\"23\",\"24\",\"25\",\"26\",\"27\",\"34\",\"35\",\"36\",\"37\",\"45\",\"46\",\"47\",\"56\",\"57\",\"67\"]);"
   ]
  },
  {
   "cell_type": "code",
   "execution_count": 16,
   "id": "a2b06ca6",
   "metadata": {},
   "outputs": [
    {
     "data": {
      "text/plain": [
       "0:12 13 14 15 16 17 23 24 25 26 27 34 35 36 37 45 46 47\n",
       "1:15 16 17 25 26 27 35 36 37 45 46 47 56 57 67\n"
      ]
     },
     "execution_count": 16,
     "metadata": {},
     "output_type": "execute_result"
    }
   ],
   "source": [
    "$p = hypersimplex(2,7);\n",
    "\n",
    "\n",
    "$wt_47 = new Vector<Rational>([0, 0, 0, 0, 0, 0, 0, 0, 0, 0, 0, 0, 0, 0, 0, 0, 0, 0, 1, 1, 1]);\n",
    "\n",
    "\n",
    "$S = new fan::SubdivisionOfPoints(POINTS=>$p->VERTICES,WEIGHTS=>$wt_47);\n",
    "#print $S->MAXIMAL_CELLS;\n",
    "\n",
    "print rows_labeled($S->MAXIMAL_CELLS,undef,[\"12\",\"13\",\"14\",\"15\",\"16\",\"17\",\"23\",\"24\",\"25\",\"26\",\"27\",\"34\",\"35\",\"36\",\"37\",\"45\",\"46\",\"47\",\"56\",\"57\",\"67\"]);"
   ]
  },
  {
   "cell_type": "code",
   "execution_count": 17,
   "id": "4ea001fa",
   "metadata": {},
   "outputs": [
    {
     "data": {
      "text/plain": [
       "0:12 13 14 15 16 17 23 24 25 26 27 34 35 36 37 45 46 47 56 57\n",
       "1:16 17 26 27 36 37 46 47 56 57 67\n"
      ]
     },
     "execution_count": 17,
     "metadata": {},
     "output_type": "execute_result"
    }
   ],
   "source": [
    "$p = hypersimplex(2,7);\n",
    "\n",
    "\n",
    "$wt_57 = new Vector<Rational>([0, 0, 0, 0, 0, 0, 0, 0, 0, 0, 0, 0, 0, 0, 0, 0, 0, 0, 0, 0, 1]);\n",
    "\n",
    "\n",
    "$S = new fan::SubdivisionOfPoints(POINTS=>$p->VERTICES,WEIGHTS=>$wt_57);\n",
    "#print $S->MAXIMAL_CELLS;\n",
    "\n",
    "print rows_labeled($S->MAXIMAL_CELLS,undef,[\"12\",\"13\",\"14\",\"15\",\"16\",\"17\",\"23\",\"24\",\"25\",\"26\",\"27\",\"34\",\"35\",\"36\",\"37\",\"45\",\"46\",\"47\",\"56\",\"57\",\"67\"]);"
   ]
  },
  {
   "cell_type": "code",
   "execution_count": null,
   "id": "3cf901b4",
   "metadata": {},
   "outputs": [],
   "source": []
  }
 ],
 "metadata": {
  "kernelspec": {
   "display_name": "polymake-4.13",
   "language": "polymake",
   "name": "polymake"
  },
  "language_info": {
   "codemirror_mode": "perl",
   "file_extension": ".pl",
   "mimetype": "text/x-polymake",
   "name": "polymake"
  }
 },
 "nbformat": 4,
 "nbformat_minor": 5
}
