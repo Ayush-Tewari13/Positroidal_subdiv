{
 "cells": [
  {
   "cell_type": "code",
   "execution_count": 1,
   "id": "51b65d1e",
   "metadata": {},
   "outputs": [],
   "source": [
    "open(INPUT, \"<\", \"GR3_8_cluster_8__WTS.txt\");            #inputing the file containing weight vectors from sage computation\n",
    "$matrix=new Matrix<Integer>(<INPUT>);     \n",
    "close(INPUT);\n",
    "#print $matrix;\n",
    "\n",
    "\n",
    "open(INPUT, \"<\", \"GR3_8_cluster_8_SSYT.txt\");       #inputing the file containing the entries of SSYT as an array \n",
    "$array=new Array<Array<Int>>(<INPUT>);\n",
    "close(INPUT);\n",
    "#print $array;"
   ]
  },
  {
   "cell_type": "code",
   "execution_count": 2,
   "id": "0dcfd2e4",
   "metadata": {},
   "outputs": [
    {
     "data": {
      "text/plain": [
       "Subdivision is positroidal\n",
       "Subdivision is positroidal\n",
       "Subdivision is positroidal\n",
       "Subdivision is positroidal\n",
       "Subdivision is positroidal\n",
       "Subdivision is positroidal\n",
       "Subdivision is positroidal\n",
       "Subdivision is positroidal\n"
      ]
     },
     "execution_count": 2,
     "metadata": {},
     "output_type": "execute_result"
    },
    {
     "data": {
      "text/html": [
       "<details><summary><pre style=\"display:inline\"><small>Click here for additional output</small></pre></summary>\n",
       "<pre>\n",
       "polymake: used package ppl\n",
       "  The Parma Polyhedra Library ([[wiki:external_software#PPL]]): A C++ library for convex polyhedra\n",
       "  and other numerical abstractions.\n",
       "  http://www.cs.unipr.it/ppl/\n",
       "\n",
       "</pre>\n",
       "</details>\n"
      ]
     },
     "metadata": {},
     "output_type": "display_data"
    }
   ],
   "source": [
    "$p = hypersimplex(3,8);\n",
    "# input of the hypersimplex \n",
    "\n",
    "$M = new Matrix($p->VERTICES);\n",
    "\n",
    "@ar = ();             #array to store subdivisions for each weught vector\n",
    "\n",
    "$r = $matrix->rows();   #number of weight vectors from sage computation\n",
    "\n",
    "for(my $i=0; $i < $r; $i++){\n",
    "$wt = $matrix->[$i];\n",
    "$S = new fan::SubdivisionOfPoints(POINTS=>$p->VERTICES,WEIGHTS=>$wt); # parse the particular weight vector in this command to get the subdivision\n",
    "#print $S->N_MAXIMAL_CELLS;\n",
    "#push @ar, $S;\n",
    "$n = $S->N_MAXIMAL_CELLS;\n",
    "$c = 0;\n",
    "\n",
    "for(my $i = 0; $i < $n; $i++){\n",
    "my $v = $S->MAXIMAL_CELLS->[$i];\n",
    "my $M1 = $M->minor($v, All);\n",
    "my $p1 = new Polytope(POINTS=>$M1);\n",
    "my $pos1 = matroid::matroid_from_matroid_polytope($p1);\n",
    "if($pos1->POSITROID == true){\n",
    "$c = $c +1;\n",
    "}\n",
    "}\n",
    "\n",
    "\n",
    "if($c == $n){\n",
    "print \"Subdivision is positroidal\\n\";                 #pushing the subdivision as an element in the array\n",
    "push @ar, $S;\n",
    "}\n",
    "\n",
    "}"
   ]
  },
  {
   "cell_type": "code",
   "execution_count": 4,
   "id": "a42a1598",
   "metadata": {},
   "outputs": [
    {
     "data": {
      "text/plain": [
       "77777777"
      ]
     },
     "execution_count": 4,
     "metadata": {},
     "output_type": "execute_result"
    }
   ],
   "source": [
    "@sp=();                      #array to store indices of SSYT which correspond to splits \n",
    "\n",
    "$d = 0;\n",
    "for(my $i=0; $i < $r; $i++){\n",
    "$sub = $ar[$i];\n",
    "print $ar[$i]->N_MAXIMAL_CELLS;\n",
    "if($sub->N_MAXIMAL_CELLS ==2){\n",
    "push @sp, $i;\n",
    "}\n",
    "}\n",
    "\n",
    "$l = scalar(@sp);\n",
    "for(my $i=0; $i < $l; $i++){\n",
    "print \"$array->[$sp[$i]]\\n\";\n",
    "#print \"$sp[$i]\\n\";\n",
    "}\n",
    "#print $l;"
   ]
  },
  {
   "cell_type": "code",
   "execution_count": null,
   "id": "450e2c6c",
   "metadata": {},
   "outputs": [],
   "source": []
  }
 ],
 "metadata": {
  "kernelspec": {
   "display_name": "polymake-4.13",
   "language": "polymake",
   "name": "polymake"
  },
  "language_info": {
   "codemirror_mode": "perl",
   "file_extension": ".pl",
   "mimetype": "text/x-polymake",
   "name": "polymake"
  }
 },
 "nbformat": 4,
 "nbformat_minor": 5
}
