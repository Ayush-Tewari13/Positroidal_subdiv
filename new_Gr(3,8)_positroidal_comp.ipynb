{
 "cells": [
  {
   "cell_type": "code",
   "execution_count": 2,
   "id": "5fcb3725",
   "metadata": {},
   "outputs": [],
   "source": [
    "open(INPUT, \"<\", \"GR3_8_WTS.txt\");            #inputing the file containing weight vectors from sage computation\n",
    "$matrix=new Matrix<Integer>(<INPUT>);     \n",
    "close(INPUT);\n",
    "#print $matrix;\n",
    "\n",
    "\n",
    "open(INPUT, \"<\", \"Gr_3_8_cluster_SSYT.txt\");       #inputing the file containing the entries of SSYT as an array \n",
    "$array=new Array<Array<Int>>(<INPUT>);\n",
    "close(INPUT);\n",
    "#print $array;"
   ]
  },
  {
   "cell_type": "code",
   "execution_count": 3,
   "id": "d94d3b38",
   "metadata": {},
   "outputs": [
    {
     "data": {
      "text/plain": [
       "Subdivision is positroidal\n",
       "Subdivision is positroidal\n",
       "Subdivision is positroidal\n",
       "Subdivision is positroidal\n",
       "Subdivision is positroidal\n",
       "Subdivision is positroidal\n",
       "Subdivision is positroidal\n",
       "Subdivision is positroidal\n",
       "Subdivision is positroidal\n",
       "Subdivision is positroidal\n",
       "Subdivision is positroidal\n",
       "Subdivision is positroidal\n",
       "Subdivision is positroidal\n",
       "Subdivision is positroidal\n",
       "Subdivision is positroidal\n",
       "Subdivision is positroidal\n",
       "Subdivision is positroidal\n",
       "Subdivision is positroidal\n",
       "Subdivision is positroidal\n",
       "Subdivision is positroidal\n",
       "Subdivision is positroidal\n",
       "Subdivision is positroidal\n",
       "Subdivision is positroidal\n",
       "Subdivision is positroidal\n",
       "Subdivision is positroidal\n",
       "Subdivision is positroidal\n",
       "Subdivision is positroidal\n",
       "Subdivision is positroidal\n",
       "Subdivision is positroidal\n",
       "Subdivision is positroidal\n",
       "Subdivision is positroidal\n",
       "Subdivision is positroidal\n",
       "Subdivision is positroidal\n",
       "Subdivision is positroidal\n",
       "Subdivision is positroidal\n",
       "Subdivision is positroidal\n",
       "Subdivision is positroidal\n",
       "Subdivision is positroidal\n",
       "Subdivision is positroidal\n",
       "Subdivision is positroidal\n",
       "Subdivision is positroidal\n",
       "Subdivision is positroidal\n",
       "Subdivision is positroidal\n",
       "Subdivision is positroidal\n",
       "Subdivision is positroidal\n",
       "Subdivision is positroidal\n",
       "Subdivision is positroidal\n",
       "Subdivision is positroidal\n",
       "Subdivision is positroidal\n",
       "Subdivision is positroidal\n",
       "Subdivision is positroidal\n",
       "Subdivision is positroidal\n",
       "Subdivision is positroidal\n",
       "Subdivision is positroidal\n",
       "Subdivision is positroidal\n",
       "Subdivision is positroidal\n",
       "Subdivision is positroidal\n",
       "Subdivision is positroidal\n",
       "Subdivision is positroidal\n",
       "Subdivision is positroidal\n",
       "Subdivision is positroidal\n",
       "Subdivision is positroidal\n",
       "Subdivision is positroidal\n",
       "Subdivision is positroidal\n",
       "Subdivision is positroidal\n",
       "Subdivision is positroidal\n",
       "Subdivision is positroidal\n",
       "Subdivision is positroidal\n",
       "Subdivision is positroidal\n",
       "Subdivision is positroidal\n",
       "Subdivision is positroidal\n",
       "Subdivision is positroidal\n",
       "Subdivision is positroidal\n",
       "Subdivision is positroidal\n",
       "Subdivision is positroidal\n",
       "Subdivision is positroidal\n",
       "Subdivision is positroidal\n",
       "Subdivision is positroidal\n",
       "Subdivision is positroidal\n",
       "Subdivision is positroidal\n",
       "Subdivision is positroidal\n",
       "Subdivision is positroidal\n",
       "Subdivision is positroidal\n",
       "Subdivision is positroidal\n",
       "Subdivision is positroidal\n",
       "Subdivision is positroidal\n",
       "Subdivision is positroidal\n",
       "Subdivision is positroidal\n",
       "Subdivision is positroidal\n",
       "Subdivision is positroidal\n",
       "Subdivision is positroidal\n",
       "Subdivision is positroidal\n",
       "Subdivision is positroidal\n",
       "Subdivision is positroidal\n",
       "Subdivision is positroidal\n",
       "Subdivision is positroidal\n",
       "Subdivision is positroidal\n",
       "Subdivision is positroidal\n",
       "Subdivision is positroidal\n",
       "Subdivision is positroidal\n",
       "Subdivision is positroidal\n",
       "Subdivision is positroidal\n",
       "Subdivision is positroidal\n",
       "Subdivision is positroidal\n",
       "Subdivision is positroidal\n",
       "Subdivision is positroidal\n",
       "Subdivision is positroidal\n",
       "Subdivision is positroidal\n",
       "Subdivision is positroidal\n",
       "Subdivision is positroidal\n",
       "Subdivision is positroidal\n",
       "Subdivision is positroidal\n",
       "Subdivision is positroidal\n",
       "Subdivision is positroidal\n",
       "Subdivision is positroidal\n",
       "Subdivision is positroidal\n",
       "Subdivision is positroidal\n",
       "Subdivision is positroidal\n",
       "Subdivision is positroidal\n",
       "Subdivision is positroidal\n"
      ]
     },
     "execution_count": 3,
     "metadata": {},
     "output_type": "execute_result"
    },
    {
     "data": {
      "text/html": [
       "<details><summary><pre style=\"display:inline\"><small>Click here for additional output</small></pre></summary>\n",
       "<pre>\n",
       "polymake: used package ppl\n",
       "  The Parma Polyhedra Library ([[wiki:external_software#PPL]]): A C++ library for convex polyhedra\n",
       "  and other numerical abstractions.\n",
       "  http://www.cs.unipr.it/ppl/\n",
       "\n",
       "</pre>\n",
       "</details>\n"
      ]
     },
     "metadata": {},
     "output_type": "display_data"
    }
   ],
   "source": [
    "$p = hypersimplex(3,8);\n",
    "# input of the hypersimplex \n",
    "\n",
    "$M = new Matrix($p->VERTICES);\n",
    "\n",
    "@ar = ();             #array to store subdivisions for each weught vector\n",
    "\n",
    "$r = $matrix->rows();   #number of weight vectors from sage computation\n",
    "\n",
    "for(my $i=0; $i < $r; $i++){\n",
    "$wt = $matrix->[$i];\n",
    "$S = new fan::SubdivisionOfPoints(POINTS=>$p->VERTICES,WEIGHTS=>$wt); # parse the particular weight vector in this command to get the subdivision\n",
    "#print $S->N_MAXIMAL_CELLS;\n",
    "#push @ar, $S;\n",
    "$n = $S->N_MAXIMAL_CELLS;\n",
    "$c = 0;\n",
    "\n",
    "for(my $i = 0; $i < $n; $i++){\n",
    "my $v = $S->MAXIMAL_CELLS->[$i];\n",
    "my $M1 = $M->minor($v, All);\n",
    "my $p1 = new Polytope(POINTS=>$M1);\n",
    "my $pos1 = matroid::matroid_from_matroid_polytope($p1);\n",
    "if($pos1->POSITROID == true){\n",
    "$c = $c +1;\n",
    "}\n",
    "}\n",
    "\n",
    "\n",
    "if($c == $n){\n",
    "print \"Subdivision is positroidal\\n\";                 #pushing the subdivision as an element in the array\n",
    "push @ar, $S;\n",
    "}\n",
    "\n",
    "}"
   ]
  },
  {
   "cell_type": "code",
   "execution_count": 4,
   "id": "9edf58a7",
   "metadata": {},
   "outputs": [
    {
     "data": {
      "text/plain": [
       "1 2 4\n",
       "2 3 5\n",
       "3 4 6\n",
       "4 5 7\n",
       "5 6 8\n",
       "1 6 7\n",
       "2 7 8\n",
       "1 3 8\n",
       "1 2 5\n",
       "2 3 6\n",
       "3 4 7\n",
       "4 5 8\n",
       "1 5 6\n",
       "2 6 7\n",
       "3 7 8\n",
       "1 4 8\n",
       "1 2 6\n",
       "2 3 7\n",
       "3 4 8\n",
       "1 4 5\n",
       "2 5 6\n",
       "3 6 7\n",
       "4 7 8\n",
       "1 5 8\n",
       "1 2 7\n",
       "2 3 8\n",
       "1 3 4\n",
       "2 4 5\n",
       "3 5 6\n",
       "4 6 7\n",
       "5 7 8\n",
       "1 6 8\n"
      ]
     },
     "execution_count": 4,
     "metadata": {},
     "output_type": "execute_result"
    }
   ],
   "source": [
    "@sp=();                      #array to store indices of SSYT which correspond to splits \n",
    "\n",
    "$d = 0;\n",
    "for(my $i=0; $i < $r; $i++){\n",
    "$sub = $ar[$i];\n",
    "#print $ar[$i]->N_MAXIMAL_CELLS;\n",
    "if($sub->N_MAXIMAL_CELLS ==2){\n",
    "push @sp, $i;\n",
    "}\n",
    "}\n",
    "\n",
    "$l = scalar(@sp);\n",
    "for(my $i=0; $i < $l; $i++){\n",
    "print \"$array->[$sp[$i]]\\n\";\n",
    "#print \"$sp[$i]\\n\";\n",
    "}\n",
    "#print $l;"
   ]
  },
  {
   "cell_type": "code",
   "execution_count": 12,
   "id": "bce4d007",
   "metadata": {},
   "outputs": [],
   "source": [
    "\n",
    "\n",
    "open(INPUT, \"<\", \"GR3_8_cluster_8__WTS.txt\");            #inputing the file containing weight vectors from sage computation\n",
    "$matrix1=new Matrix<Integer>(<INPUT>);     \n",
    "close(INPUT);\n",
    "#print $matrix;"
   ]
  },
  {
   "cell_type": "code",
   "execution_count": 35,
   "id": "2bc399b2",
   "metadata": {},
   "outputs": [
    {
     "data": {
      "text/plain": [
       "44\n",
       "82\n",
       "82\n",
       "44\n"
      ]
     },
     "execution_count": 35,
     "metadata": {},
     "output_type": "execute_result"
    }
   ],
   "source": [
    "#print $array->[13];\n",
    "#print $matrix->[13];\n",
    "#print $matrix->[115];\n",
    "$v = $matrix1->[7];\n",
    "for(my $i = 0; $i < 120; $i++){\n",
    "$k1 = $matrix->[$i];\n",
    "for(my $j = 0; $j < 120; $j++){\n",
    "$k2 = $matrix->[$j];\n",
    "$k = $k1 + $k2;\n",
    "if($v == $k){\n",
    "print \"$i\\n\";\n",
    "print \"$j\\n\";\n",
    "}\n",
    "}\n",
    "}"
   ]
  },
  {
   "cell_type": "code",
   "execution_count": 25,
   "id": "286198fe",
   "metadata": {},
   "outputs": [
    {
     "data": {
      "text/plain": [
       "0 0 0 0 0 0 1 0 0 0 0 0 0 0 0 0 0 0 1 1 1 1 0 0 0 0 0 0 0 0 0 0 0 1 1 1 2 2 2 2 2 2 1 2 1 1 2 2 1 2 1 1 2 1 1 2"
      ]
     },
     "execution_count": 25,
     "metadata": {},
     "output_type": "execute_result"
    }
   ],
   "source": [
    "print $v;"
   ]
  },
  {
   "cell_type": "code",
   "execution_count": 27,
   "id": "18619d1d",
   "metadata": {},
   "outputs": [
    {
     "data": {
      "text/plain": [
       "0 0 0 0 0 0 0 0 0 0 0 0 0 0 0 0 0 0 1 1 1 0 0 0 0 0 0 0 0 0 0 0 0 1 1 1 1 1 1 1 1 1 1 1 1 1 1 1 1 1 1 1 1 1 1 2"
      ]
     },
     "execution_count": 27,
     "metadata": {},
     "output_type": "execute_result"
    }
   ],
   "source": [
    "print $matrix->[47];"
   ]
  },
  {
   "cell_type": "code",
   "execution_count": 28,
   "id": "75da5fd2",
   "metadata": {},
   "outputs": [
    {
     "data": {
      "text/plain": [
       "0 0 0 0 0 0 1 0 0 0 0 0 0 0 0 0 0 0 0 0 0 1 0 0 0 0 0 0 0 0 0 0 0 0 0 0 1 1 1 1 1 1 0 1 0 0 1 1 0 1 0 0 1 0 0 0"
      ]
     },
     "execution_count": 28,
     "metadata": {},
     "output_type": "execute_result"
    }
   ],
   "source": [
    "print $matrix->[85];"
   ]
  },
  {
   "cell_type": "code",
   "execution_count": null,
   "id": "cf57309d",
   "metadata": {},
   "outputs": [],
   "source": []
  }
 ],
 "metadata": {
  "kernelspec": {
   "display_name": "polymake-4.13",
   "language": "polymake",
   "name": "polymake"
  },
  "language_info": {
   "codemirror_mode": "perl",
   "file_extension": ".pl",
   "mimetype": "text/x-polymake",
   "name": "polymake"
  }
 },
 "nbformat": 4,
 "nbformat_minor": 5
}
