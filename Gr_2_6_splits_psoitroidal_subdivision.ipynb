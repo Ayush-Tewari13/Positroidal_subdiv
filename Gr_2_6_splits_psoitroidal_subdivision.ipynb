{
 "cells": [
  {
   "cell_type": "code",
   "execution_count": 6,
   "id": "22267264",
   "metadata": {},
   "outputs": [
    {
     "data": {
      "text/plain": [
       "0:12 13 14 15 16 24 25 26 34 35 36 45 46 56\n",
       "1:12 13 23 24 25 26 34 35 36\n"
      ]
     },
     "execution_count": 6,
     "metadata": {},
     "output_type": "execute_result"
    }
   ],
   "source": [
    "$p = hypersimplex(2,6);\n",
    "\n",
    "\n",
    "$wt_13 = new Vector<Rational>([0, 0, 0, 0, 0, 1, 0, 0, 0, 0, 0, 0, 0, 0, 0]);\n",
    "\n",
    "\n",
    "$S = new fan::SubdivisionOfPoints(POINTS=>$p->VERTICES,WEIGHTS=>$wt_13);\n",
    "#print $S->MAXIMAL_CELLS;\n",
    "\n",
    "print rows_labeled($S->MAXIMAL_CELLS,undef,[\"12\",\"13\",\"14\",\"15\",\"16\",\"23\",\"24\",\"25\",\"26\",\"34\",\"35\",\"36\",\"45\",\"46\",\"56\"]);"
   ]
  },
  {
   "cell_type": "code",
   "execution_count": 9,
   "id": "b6598161",
   "metadata": {},
   "outputs": [
    {
     "data": {
      "text/plain": [
       "0:12 13 14 15 16 25 26 35 36 45 46 56\n",
       "1:12 13 14 23 24 25 26 34 35 36 45 46\n"
      ]
     },
     "execution_count": 9,
     "metadata": {},
     "output_type": "execute_result"
    }
   ],
   "source": [
    "$wt_14 = new Vector<Rational>([0, 0, 0, 0, 0, 1, 1, 0, 0, 1, 0, 0, 0, 0, 0]);\n",
    "\n",
    "$S = new fan::SubdivisionOfPoints(POINTS=>$p->VERTICES,WEIGHTS=>$wt_14);\n",
    "#print $S->MAXIMAL_CELLS;\n",
    "\n",
    "print rows_labeled($S->MAXIMAL_CELLS,undef,[\"12\",\"13\",\"14\",\"15\",\"16\",\"23\",\"24\",\"25\",\"26\",\"34\",\"35\",\"36\",\"45\",\"46\",\"56\"]);"
   ]
  },
  {
   "cell_type": "code",
   "execution_count": 10,
   "id": "1a150ace",
   "metadata": {},
   "outputs": [
    {
     "data": {
      "text/plain": [
       "0:12 13 14 15 23 24 25 26 34 35 36 45 46 56\n",
       "1:12 13 14 15 16 26 36 46 56\n"
      ]
     },
     "execution_count": 10,
     "metadata": {},
     "output_type": "execute_result"
    }
   ],
   "source": [
    "$wt_15 = new Vector<Rational>([0, 0, 0, 0, 0, 1, 1, 1, 0, 1, 1, 0, 1, 0, 0]);\n",
    "\n",
    "$S = new fan::SubdivisionOfPoints(POINTS=>$p->VERTICES,WEIGHTS=>$wt_15);\n",
    "#print $S->MAXIMAL_CELLS;\n",
    "\n",
    "print rows_labeled($S->MAXIMAL_CELLS,undef,[\"12\",\"13\",\"14\",\"15\",\"16\",\"23\",\"24\",\"25\",\"26\",\"34\",\"35\",\"36\",\"45\",\"46\",\"56\"]);"
   ]
  },
  {
   "cell_type": "code",
   "execution_count": 11,
   "id": "8aeddb04",
   "metadata": {},
   "outputs": [
    {
     "data": {
      "text/plain": [
       "0:12 13 14 15 16 23 24 25 26 35 36 45 46 56\n",
       "1:13 14 23 24 34 35 36 45 46\n"
      ]
     },
     "execution_count": 11,
     "metadata": {},
     "output_type": "execute_result"
    }
   ],
   "source": [
    "$wt_24 = new Vector<Rational>([0, 0, 0, 0, 0, 0, 0, 0, 0, 1, 0, 0, 0, 0, 0]);\n",
    "\n",
    "$S = new fan::SubdivisionOfPoints(POINTS=>$p->VERTICES,WEIGHTS=>$wt_24);\n",
    "#print $S->MAXIMAL_CELLS;\n",
    "\n",
    "print rows_labeled($S->MAXIMAL_CELLS,undef,[\"12\",\"13\",\"14\",\"15\",\"16\",\"23\",\"24\",\"25\",\"26\",\"34\",\"35\",\"36\",\"45\",\"46\",\"56\"]);"
   ]
  },
  {
   "cell_type": "code",
   "execution_count": 12,
   "id": "c145c691",
   "metadata": {},
   "outputs": [
    {
     "data": {
      "text/plain": [
       "0:12 13 14 15 16 23 24 25 26 36 46 56\n",
       "1:13 14 15 23 24 25 34 35 36 45 46 56\n"
      ]
     },
     "execution_count": 12,
     "metadata": {},
     "output_type": "execute_result"
    }
   ],
   "source": [
    "$wt_25 = new Vector<Rational>([0, 0, 0, 0, 0, 0, 0, 0, 0, 1, 1, 0, 1, 0, 0]);\n",
    "\n",
    "$S = new fan::SubdivisionOfPoints(POINTS=>$p->VERTICES,WEIGHTS=>$wt_25);\n",
    "#print $S->MAXIMAL_CELLS;\n",
    "\n",
    "print rows_labeled($S->MAXIMAL_CELLS,undef,[\"12\",\"13\",\"14\",\"15\",\"16\",\"23\",\"24\",\"25\",\"26\",\"34\",\"35\",\"36\",\"45\",\"46\",\"56\"]);"
   ]
  },
  {
   "cell_type": "code",
   "execution_count": 13,
   "id": "c8b51572",
   "metadata": {},
   "outputs": [
    {
     "data": {
      "text/plain": [
       "0:13 14 15 16 23 24 25 26 34 35 36 45 46 56\n",
       "1:12 13 14 15 16 23 24 25 26\n"
      ]
     },
     "execution_count": 13,
     "metadata": {},
     "output_type": "execute_result"
    }
   ],
   "source": [
    "$wt_26 = new Vector<Rational>([0, 0, 0, 0, 0, 0, 0, 0, 0, 1, 1, 1, 1, 1, 1]);\n",
    "\n",
    "$S = new fan::SubdivisionOfPoints(POINTS=>$p->VERTICES,WEIGHTS=>$wt_26);\n",
    "#print $S->MAXIMAL_CELLS;\n",
    "\n",
    "print rows_labeled($S->MAXIMAL_CELLS,undef,[\"12\",\"13\",\"14\",\"15\",\"16\",\"23\",\"24\",\"25\",\"26\",\"34\",\"35\",\"36\",\"45\",\"46\",\"56\"]);"
   ]
  },
  {
   "cell_type": "code",
   "execution_count": 14,
   "id": "228be19c",
   "metadata": {},
   "outputs": [
    {
     "data": {
      "text/plain": [
       "0:12 13 14 15 16 23 24 25 26 34 35 36 46 56\n",
       "1:14 15 24 25 34 35 45 46 56\n"
      ]
     },
     "execution_count": 14,
     "metadata": {},
     "output_type": "execute_result"
    }
   ],
   "source": [
    "$wt_35 = new Vector<Rational>([0, 0, 0, 0, 0, 0, 0, 0, 0, 0, 0, 0, 1, 0, 0]);\n",
    "\n",
    "$S = new fan::SubdivisionOfPoints(POINTS=>$p->VERTICES,WEIGHTS=>$wt_35);\n",
    "#print $S->MAXIMAL_CELLS;\n",
    "\n",
    "print rows_labeled($S->MAXIMAL_CELLS,undef,[\"12\",\"13\",\"14\",\"15\",\"16\",\"23\",\"24\",\"25\",\"26\",\"34\",\"35\",\"36\",\"45\",\"46\",\"56\"]);"
   ]
  },
  {
   "cell_type": "code",
   "execution_count": 15,
   "id": "d3e264f1",
   "metadata": {},
   "outputs": [
    {
     "data": {
      "text/plain": [
       "0:12 13 14 15 16 23 24 25 26 34 35 36\n",
       "1:14 15 16 24 25 26 34 35 36 45 46 56\n"
      ]
     },
     "execution_count": 15,
     "metadata": {},
     "output_type": "execute_result"
    }
   ],
   "source": [
    "$wt_36 = new Vector<Rational>([0, 0, 0, 0, 0, 0, 0, 0, 0, 0, 0, 0, 1, 1, 1]);\n",
    "\n",
    "$S = new fan::SubdivisionOfPoints(POINTS=>$p->VERTICES,WEIGHTS=>$wt_36);\n",
    "#print $S->MAXIMAL_CELLS;\n",
    "\n",
    "print rows_labeled($S->MAXIMAL_CELLS,undef,[\"12\",\"13\",\"14\",\"15\",\"16\",\"23\",\"24\",\"25\",\"26\",\"34\",\"35\",\"36\",\"45\",\"46\",\"56\"]);"
   ]
  },
  {
   "cell_type": "code",
   "execution_count": 16,
   "id": "14982f8a",
   "metadata": {},
   "outputs": [
    {
     "data": {
      "text/plain": [
       "0:12 13 14 15 16 23 24 25 26 34 35 36 45 46\n",
       "1:15 16 25 26 35 36 45 46 56\n"
      ]
     },
     "execution_count": 16,
     "metadata": {},
     "output_type": "execute_result"
    }
   ],
   "source": [
    "$wt_46 = new Vector<Rational>([0, 0, 0, 0, 0, 0, 0, 0, 0, 0, 0, 0, 0, 0, 1]);\n",
    "\n",
    "$S = new fan::SubdivisionOfPoints(POINTS=>$p->VERTICES,WEIGHTS=>$wt_46);\n",
    "#print $S->MAXIMAL_CELLS;\n",
    "\n",
    "print rows_labeled($S->MAXIMAL_CELLS,undef,[\"12\",\"13\",\"14\",\"15\",\"16\",\"23\",\"24\",\"25\",\"26\",\"34\",\"35\",\"36\",\"45\",\"46\",\"56\"]);"
   ]
  },
  {
   "cell_type": "code",
   "execution_count": null,
   "id": "e0279028",
   "metadata": {},
   "outputs": [],
   "source": []
  }
 ],
 "metadata": {
  "kernelspec": {
   "display_name": "polymake-4.13",
   "language": "polymake",
   "name": "polymake"
  },
  "language_info": {
   "codemirror_mode": "perl",
   "file_extension": ".pl",
   "mimetype": "text/x-polymake",
   "name": "polymake"
  }
 },
 "nbformat": 4,
 "nbformat_minor": 5
}
