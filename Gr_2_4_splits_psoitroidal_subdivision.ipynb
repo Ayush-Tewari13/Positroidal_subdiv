{
 "cells": [
  {
   "cell_type": "code",
   "execution_count": 1,
   "id": "6e02d8f6",
   "metadata": {},
   "outputs": [
    {
     "data": {
      "text/plain": [
       "0:12 13 23 24 34\n",
       "1:12 13 14 24 34\n"
      ]
     },
     "execution_count": 1,
     "metadata": {},
     "output_type": "execute_result"
    },
    {
     "data": {
      "text/html": [
       "<details><summary><pre style=\"display:inline\"><small>Click here for additional output</small></pre></summary>\n",
       "<pre>\n",
       "polymake: used package ppl\n",
       "  The Parma Polyhedra Library ([[wiki:external_software#PPL]]): A C++ library for convex polyhedra\n",
       "  and other numerical abstractions.\n",
       "  http://www.cs.unipr.it/ppl/\n",
       "\n",
       "</pre>\n",
       "</details>\n"
      ]
     },
     "metadata": {},
     "output_type": "display_data"
    }
   ],
   "source": [
    "$p = hypersimplex(2,4);\n",
    "\n",
    "\n",
    "$wt_13 = new Vector<Rational>([0, 0, 0, 1, 0, 0]);\n",
    "\n",
    "\n",
    "$S = new fan::SubdivisionOfPoints(POINTS=>$p->VERTICES,WEIGHTS=>$wt_13);\n",
    "#print $S->MAXIMAL_CELLS;\n",
    "\n",
    "print rows_labeled($S->MAXIMAL_CELLS,undef,[\"12\",\"13\",\"14\",\"23\",\"24\",\"34\"]);"
   ]
  },
  {
   "cell_type": "code",
   "execution_count": 2,
   "id": "5b885b7d",
   "metadata": {},
   "outputs": [
    {
     "data": {
      "text/plain": [
       "0:13 14 23 24 34\n",
       "1:12 13 14 23 24\n"
      ]
     },
     "execution_count": 2,
     "metadata": {},
     "output_type": "execute_result"
    }
   ],
   "source": [
    "$p = hypersimplex(2,4);\n",
    "\n",
    "\n",
    "$wt_24 = new Vector<Rational>([0, 0, 0, 0, 0, 1]);\n",
    "\n",
    "\n",
    "$S = new fan::SubdivisionOfPoints(POINTS=>$p->VERTICES,WEIGHTS=>$wt_24);\n",
    "#print $S->MAXIMAL_CELLS;\n",
    "\n",
    "print rows_labeled($S->MAXIMAL_CELLS,undef,[\"12\",\"13\",\"14\",\"23\",\"24\",\"34\"]);"
   ]
  },
  {
   "cell_type": "code",
   "execution_count": 3,
   "id": "45923cde",
   "metadata": {},
   "outputs": [
    {
     "data": {
      "text/plain": [
       "0:12 13 14 23 24 34\n"
      ]
     },
     "execution_count": 3,
     "metadata": {},
     "output_type": "execute_result"
    }
   ],
   "source": [
    "$p = hypersimplex(2,4);\n",
    "\n",
    "\n",
    "$wt_14 = new Vector<Rational>([0, 0, 0, 1, 1, 1]);\n",
    "\n",
    "\n",
    "$S = new fan::SubdivisionOfPoints(POINTS=>$p->VERTICES,WEIGHTS=>$wt_14);\n",
    "#print $S->MAXIMAL_CELLS;\n",
    "\n",
    "print rows_labeled($S->MAXIMAL_CELLS,undef,[\"12\",\"13\",\"14\",\"23\",\"24\",\"34\"]);"
   ]
  },
  {
   "cell_type": "code",
   "execution_count": null,
   "id": "8575f2c5",
   "metadata": {},
   "outputs": [],
   "source": []
  }
 ],
 "metadata": {
  "kernelspec": {
   "display_name": "polymake-4.13",
   "language": "polymake",
   "name": "polymake"
  },
  "language_info": {
   "codemirror_mode": "perl",
   "file_extension": ".pl",
   "mimetype": "text/x-polymake",
   "name": "polymake"
  }
 },
 "nbformat": 4,
 "nbformat_minor": 5
}
